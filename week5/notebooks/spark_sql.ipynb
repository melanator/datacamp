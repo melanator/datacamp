{
 "cells": [
  {
   "cell_type": "code",
   "execution_count": 3,
   "id": "146246ce",
   "metadata": {},
   "outputs": [],
   "source": [
    "import pyspark\n",
    "import pandas as pd\n",
    "from pyspark.sql import SparkSession"
   ]
  },
  {
   "cell_type": "code",
   "execution_count": 4,
   "id": "5f8e3d66",
   "metadata": {
    "scrolled": true
   },
   "outputs": [
    {
     "name": "stderr",
     "output_type": "stream",
     "text": [
      "22/02/23 21:59:28 WARN Utils: Your hostname, DESKTOP-LIPMSCN resolves to a loopback address: 127.0.1.1; using 172.27.2.173 instead (on interface eth0)\n",
      "22/02/23 21:59:28 WARN Utils: Set SPARK_LOCAL_IP if you need to bind to another address\n",
      "WARNING: An illegal reflective access operation has occurred\n",
      "WARNING: Illegal reflective access by org.apache.spark.unsafe.Platform (file:/home/anton/spark/spark-3.0.3-bin-hadoop3.2/jars/spark-unsafe_2.12-3.0.3.jar) to constructor java.nio.DirectByteBuffer(long,int)\n",
      "WARNING: Please consider reporting this to the maintainers of org.apache.spark.unsafe.Platform\n",
      "WARNING: Use --illegal-access=warn to enable warnings of further illegal reflective access operations\n",
      "WARNING: All illegal access operations will be denied in a future release\n",
      "22/02/23 21:59:39 WARN NativeCodeLoader: Unable to load native-hadoop library for your platform... using builtin-java classes where applicable\n",
      "Using Spark's default log4j profile: org/apache/spark/log4j-defaults.properties\n",
      "Setting default log level to \"WARN\".\n",
      "To adjust logging level use sc.setLogLevel(newLevel). For SparkR, use setLogLevel(newLevel).\n",
      "22/02/23 21:59:41 WARN Utils: Service 'SparkUI' could not bind on port 4040. Attempting port 4041.\n"
     ]
    }
   ],
   "source": [
    "spark = SparkSession.builder \\\n",
    "    .master(\"local[*]\") \\\n",
    "    .appName('test') \\\n",
    "    .getOrCreate()"
   ]
  },
  {
   "cell_type": "code",
   "execution_count": 6,
   "id": "69b96171",
   "metadata": {},
   "outputs": [
    {
     "name": "stderr",
     "output_type": "stream",
     "text": [
      "\r",
      "[Stage 0:>                                                          (0 + 1) / 1]\r",
      "\r",
      "                                                                                \r"
     ]
    }
   ],
   "source": [
    "df_green = spark.read.parquet('data/pq/green/*/*')\n",
    "df_yellow = spark.read.parquet('data/pq/yellow/*/*')"
   ]
  },
  {
   "cell_type": "code",
   "execution_count": 30,
   "id": "70edcf15",
   "metadata": {},
   "outputs": [],
   "source": [
    "df_green = df_green \\\n",
    "    .withColumnRenamed('lpep_pickup_datetime', 'pickup_datetime') \\\n",
    "    .withColumnRenamed('lpep_dropoff_datetime', 'dropoff_datetime')"
   ]
  },
  {
   "cell_type": "code",
   "execution_count": 31,
   "id": "53f2e018",
   "metadata": {},
   "outputs": [],
   "source": [
    "df_yellow = df_yellow \\\n",
    "    .withColumnRenamed('tpep_pickup_datetime', 'pickup_datetime') \\\n",
    "    .withColumnRenamed('tpep_dropoff_datetime', 'dropoff_datetime')"
   ]
  },
  {
   "cell_type": "code",
   "execution_count": 32,
   "id": "12f54808",
   "metadata": {},
   "outputs": [],
   "source": [
    "common_columns = []\n",
    "\n",
    "yellow_columns = set(df_yellow.columns)\n",
    "\n",
    "common_columns = [col for col in df_green.columns if col in yellow_columns]"
   ]
  },
  {
   "cell_type": "code",
   "execution_count": 33,
   "id": "d71feca1",
   "metadata": {},
   "outputs": [
    {
     "data": {
      "text/plain": [
       "['VendorID',\n",
       " 'pickup_datetime',\n",
       " 'dropoff_datetime',\n",
       " 'store_and_fwd_flag',\n",
       " 'RatecodeID',\n",
       " 'PULocationID',\n",
       " 'DOLocationID',\n",
       " 'passenger_count',\n",
       " 'trip_distance',\n",
       " 'fare_amount',\n",
       " 'extra',\n",
       " 'mta_tax',\n",
       " 'tip_amount',\n",
       " 'tolls_amount',\n",
       " 'improvement_surcharge',\n",
       " 'total_amount',\n",
       " 'payment_type',\n",
       " 'congestion_surcharge']"
      ]
     },
     "execution_count": 33,
     "metadata": {},
     "output_type": "execute_result"
    }
   ],
   "source": [
    "common_columns"
   ]
  },
  {
   "cell_type": "code",
   "execution_count": 34,
   "id": "858caba5",
   "metadata": {},
   "outputs": [],
   "source": [
    "from pyspark.sql import functions as F"
   ]
  },
  {
   "cell_type": "code",
   "execution_count": 35,
   "id": "ceca2607",
   "metadata": {},
   "outputs": [],
   "source": [
    "df_green_sel = df_green.select(common_columns).withColumn('service_type', F.lit('green'))"
   ]
  },
  {
   "cell_type": "code",
   "execution_count": 36,
   "id": "741c1b02",
   "metadata": {},
   "outputs": [],
   "source": [
    "df_yellow_sel = df_yellow.select(common_columns).withColumn('service_type', F.lit('yellow'))"
   ]
  },
  {
   "cell_type": "code",
   "execution_count": 37,
   "id": "811c4ce9",
   "metadata": {},
   "outputs": [],
   "source": [
    "df_trips_data = df_green_sel.unionAll(df_yellow_sel)"
   ]
  },
  {
   "cell_type": "code",
   "execution_count": 38,
   "id": "d9d21976",
   "metadata": {},
   "outputs": [
    {
     "name": "stderr",
     "output_type": "stream",
     "text": [
      "                                                                                \r"
     ]
    },
    {
     "name": "stdout",
     "output_type": "stream",
     "text": [
      "+------------+--------+\n",
      "|service_type|   count|\n",
      "+------------+--------+\n",
      "|       green| 2304517|\n",
      "|      yellow|39768827|\n",
      "+------------+--------+\n",
      "\n"
     ]
    }
   ],
   "source": [
    "df_trips_data.groupBy('service_type').count().show()"
   ]
  },
  {
   "cell_type": "code",
   "execution_count": 40,
   "id": "81b651fa",
   "metadata": {},
   "outputs": [],
   "source": [
    "df_trips_data.registerTempTable('trips_data')"
   ]
  },
  {
   "cell_type": "code",
   "execution_count": 41,
   "id": "1372199a",
   "metadata": {},
   "outputs": [],
   "source": [
    "df_result = spark.sql(\"\"\"\n",
    "SELECT \n",
    "    -- Reveneue grouping \n",
    "    PULocationID AS revenue_zone,\n",
    "    date_trunc('month', pickup_datetime) AS revenue_month, \n",
    "    service_type, \n",
    "\n",
    "    -- Revenue calculation \n",
    "    SUM(fare_amount) AS revenue_monthly_fare,\n",
    "    SUM(extra) AS revenue_monthly_extra,\n",
    "    SUM(mta_tax) AS revenue_monthly_mta_tax,\n",
    "    SUM(tip_amount) AS revenue_monthly_tip_amount,\n",
    "    SUM(tolls_amount) AS revenue_monthly_tolls_amount,\n",
    "    SUM(improvement_surcharge) AS revenue_monthly_improvement_surcharge,\n",
    "    SUM(total_amount) AS revenue_monthly_total_amount,\n",
    "    SUM(congestion_surcharge) AS revenue_monthly_congestion_surcharge,\n",
    "\n",
    "    -- Additional calculations\n",
    "    AVG(passenger_count) AS avg_montly_passenger_count,\n",
    "    AVG(trip_distance) AS avg_montly_trip_distance\n",
    "FROM\n",
    "    trips_data\n",
    "GROUP BY\n",
    "    1, 2, 3\n",
    "\"\"\")"
   ]
  },
  {
   "cell_type": "code",
   "execution_count": 44,
   "id": "fef013a9",
   "metadata": {},
   "outputs": [
    {
     "name": "stderr",
     "output_type": "stream",
     "text": [
      "                                                                                \r"
     ]
    }
   ],
   "source": [
    "df_result.coalesce(1).write.parquet('data/report/revenue', mode='overwrite')"
   ]
  },
  {
   "cell_type": "code",
   "execution_count": 43,
   "id": "67418802",
   "metadata": {},
   "outputs": [
    {
     "name": "stderr",
     "output_type": "stream",
     "text": [
      "[Stage 27:==================================================>     (17 + 2) / 19]\r"
     ]
    },
    {
     "name": "stdout",
     "output_type": "stream",
     "text": [
      "+------------+-------------------+------------+--------------------+---------------------+-----------------------+--------------------------+----------------------------+-------------------------------------+----------------------------+------------------------------------+--------------------------+------------------------+\n",
      "|revenue_zone|      revenue_month|service_type|revenue_monthly_fare|revenue_monthly_extra|revenue_monthly_mta_tax|revenue_monthly_tip_amount|revenue_monthly_tolls_amount|revenue_monthly_improvement_surcharge|revenue_monthly_total_amount|revenue_monthly_congestion_surcharge|avg_montly_passenger_count|avg_montly_trip_distance|\n",
      "+------------+-------------------+------------+--------------------+---------------------+-----------------------+--------------------------+----------------------------+-------------------------------------+----------------------------+------------------------------------+--------------------------+------------------------+\n",
      "|          55|2020-01-01 00:00:00|       green|   66796.46999999993|              2658.25|                  589.5|                    225.66|          1844.5099999999875|                    541.5000000000092|           72709.69000000082|                               30.25|        1.5239206534422405|       9.333281553398063|\n",
      "|           3|2020-01-01 00:00:00|       green|  12951.510000000033|                885.5|                   87.0|                     44.18|           702.2400000000005|                   135.29999999999941|          14820.079999999974|                                 5.5|        1.0987654320987654|       6.408490196078428|\n",
      "|         181|2020-02-01 00:00:00|       green|    95812.8299999999|              4772.75|                 2947.0|         8803.909999999996|           694.0500000000002|                   1992.8999999998775|          116901.39000000355|                              1436.0|         1.290180088345226|       2.916770048737263|\n",
      "|          88|2020-02-01 00:00:00|       green|  3366.0800000000004|               229.25|                    7.0|                       0.0|          239.43000000000006|                   26.700000000000024|          3868.4600000000005|                                 0.0|                       1.0|      10.510666666666669|\n",
      "|         237|2020-10-01 00:00:00|       green|  1424.6199999999997|                  0.0|                    0.0|                    118.25|                       48.44|                    12.90000000000001|          1604.2099999999996|                                null|                      null|       8.786511627906973|\n",
      "|         124|2020-10-01 00:00:00|       green|  1604.6100000000008|                  0.5|                    4.5|                    139.75|          47.419999999999995|                    16.80000000000002|          1813.5799999999995|                                 0.0|                       1.0|       6.744310344827587|\n",
      "|         153|2020-10-01 00:00:00|       green|   2769.800000000001|                  4.5|                    8.0|                    263.77|          48.959999999999994|                   31.500000000000053|          3126.5300000000007|                                 0.0|                       1.0|       5.344380952380951|\n",
      "|          17|2021-06-01 00:00:00|       green|  11730.540000000005|    781.5500000000001|                   88.5|        464.39999999999975|          196.60000000000005|                   160.80000000000038|          13493.889999999978|                               41.25|        1.1685393258426966|       130.3846828358209|\n",
      "|         237|2021-06-01 00:00:00|       green|             1299.17|                108.6|                    0.5|                       0.0|           67.94999999999999|                   11.700000000000006|          1487.9200000000003|                                 0.0|                       1.0|       665.3407692307693|\n",
      "|         248|2021-05-01 00:00:00|       green|   4218.159999999998|   358.55000000000007|                   16.0|        28.490000000000002|          195.15000000000006|                    55.19999999999983|           4877.050000000006|                                 0.0|        1.1458333333333333|       606.2438095238094|\n",
      "|         191|2021-05-01 00:00:00|       green|             8415.17|   496.80000000000007|                   25.5|                      22.1|          236.17000000000013|                    66.89999999999972|           9262.639999999994|                                 0.0|         1.037037037037037|      44.943348214285706|\n",
      "|         120|2021-05-01 00:00:00|       green|              337.24|                 11.0|                    4.5|                       0.0|                       19.65|                   3.2999999999999994|          375.69000000000005|                                 0.0|        1.6666666666666667|       8.152727272727274|\n",
      "|         236|2020-09-01 00:00:00|       green|   3201.940000000001|                 77.0|                   82.5|         462.5199999999999|          100.72000000000001|                    62.99999999999976|           4316.430000000007|                              332.25|        1.3719512195121952|      3.5614285714285696|\n",
      "|          78|2021-07-01 00:00:00|       green|   6491.450000000005|    512.6000000000001|                   31.5|                     52.36|          316.42000000000024|                    75.29999999999964|           7485.130000000011|                                 0.0|        1.0579710144927537|      1919.5362890624997|\n",
      "|          62|2021-07-01 00:00:00|       green|   6651.909999999991|    557.8500000000001|                   13.5|        206.29000000000005|          135.89999999999995|                    76.79999999999963|           7664.249999999996|                                 0.0|        1.1481481481481481|       727.5714453125005|\n",
      "|          88|2021-07-01 00:00:00|       green|   605.0200000000001|                35.75|                    0.5|                       0.0|                        39.3|                    4.499999999999999|           685.0699999999999|                                 0.0|                       1.0|      13.216000000000001|\n",
      "|         158|2021-07-01 00:00:00|       green|               125.1|                 8.25|                    0.0|                       0.0|                       11.45|                   0.8999999999999999|                       145.7|                                null|                      null|      18.013333333333335|\n",
      "|          30|2021-04-01 00:00:00|       green|               99.06|                  5.5|                    0.0|                       0.0|                        2.45|                                  0.6|                      107.61|                                null|                      null|                  11.425|\n",
      "|           7|2021-03-01 00:00:00|       green|  14368.919999999996|    881.1500000000001|                  288.5|        1025.4500000000005|           228.7300000000001|                    288.0000000000052|          17310.949999999844|                               209.0|         1.423785594639866|       3.194979338842974|\n",
      "|         198|2021-03-01 00:00:00|       green|   2845.089999999999|               240.75|                    3.0|        17.619999999999997|                       74.19|                    32.10000000000005|          3215.4999999999995|                                 0.0|                       1.0|       5.327850467289717|\n",
      "+------------+-------------------+------------+--------------------+---------------------+-----------------------+--------------------------+----------------------------+-------------------------------------+----------------------------+------------------------------------+--------------------------+------------------------+\n",
      "only showing top 20 rows\n",
      "\n"
     ]
    },
    {
     "name": "stderr",
     "output_type": "stream",
     "text": [
      "\r",
      "                                                                                \r"
     ]
    }
   ],
   "source": [
    "df_result.show()"
   ]
  }
 ],
 "metadata": {
  "kernelspec": {
   "display_name": "Python 3 (ipykernel)",
   "language": "python",
   "name": "python3"
  },
  "language_info": {
   "codemirror_mode": {
    "name": "ipython",
    "version": 3
   },
   "file_extension": ".py",
   "mimetype": "text/x-python",
   "name": "python",
   "nbconvert_exporter": "python",
   "pygments_lexer": "ipython3",
   "version": "3.8.10"
  }
 },
 "nbformat": 4,
 "nbformat_minor": 5
}
